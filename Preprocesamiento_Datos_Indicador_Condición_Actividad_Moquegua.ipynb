{
  "nbformat": 4,
  "nbformat_minor": 0,
  "metadata": {
    "colab": {
      "provenance": []
    },
    "kernelspec": {
      "name": "python3",
      "display_name": "Python 3"
    },
    "language_info": {
      "name": "python"
    }
  },
  "cells": [
    {
      "cell_type": "markdown",
      "source": [
        "#**PROCESAMIENTO DE DATOS**\n",
        "\n",
        "---"
      ],
      "metadata": {
        "id": "_zfORMVMyygg"
      }
    },
    {
      "cell_type": "markdown",
      "metadata": {
        "id": "WDJVR1Kjc6oM"
      },
      "source": [
        "##**Subir Data**\n",
        "\n",
        "---"
      ]
    },
    {
      "cell_type": "code",
      "execution_count": null,
      "metadata": {
        "colab": {
          "base_uri": "https://localhost:8080/",
          "height": 443
        },
        "id": "jlWtQEjvJ11v",
        "outputId": "0cdefe93-c6f9-4386-e09b-e0343b4a4643"
      },
      "outputs": [
        {
          "output_type": "execute_result",
          "data": {
            "text/plain": [
              "      p103  p105  p107  p108  p109a  p109b  p201  p202 p203 p2041  ... p209t  \\\n",
              "0        1     2     1    41      6      5     1     1             ...    35   \n",
              "1        1     2     1    55      5      3     1     1             ...    38   \n",
              "2        1     2     1    54      5      2     1     1             ...    27   \n",
              "3        2     2     2    54      5      3     1     1             ...    21   \n",
              "4        3     2     1    15      5      4     1     2             ...         \n",
              "...    ...   ...   ...   ...    ...    ...   ...   ...  ...   ...  ...   ...   \n",
              "9246     2     2     1    54      6      5     2     2    2     2  ...         \n",
              "9247     1     2     1    26      9      3     1     1             ...    40   \n",
              "9248     2     2     2    27      9      3     1     1             ...    30   \n",
              "9249     1     2     1    33      6      5     1     1             ...    35   \n",
              "9250     2     2     2    31     10      2     2     2    2     2  ...         \n",
              "\n",
              "     p209ee p213 p218 p220 p222 P224 P225  ingtot ocu200  \n",
              "0         2         0    1    5    9   10    2952      1  \n",
              "1         2         0    1    5    9   10    2642      1  \n",
              "2         1         0    1    5    9   10      39      1  \n",
              "3                   0    2    5    9   10       0      1  \n",
              "4              2    8    2    5    9   10              4  \n",
              "...     ...  ...  ...  ...  ...  ...  ...     ...    ...  \n",
              "9246           2    3    1    1    7   10              3  \n",
              "9247      2         0    1    1    7   10    3000      1  \n",
              "9248      2         0    1    1    7   10    1100      1  \n",
              "9249      2         0    1    9    5   10    2700      1  \n",
              "9250           2    5    1    9    7   10              4  \n",
              "\n",
              "[9251 rows x 30 columns]"
            ],
            "text/html": [
              "\n",
              "  <div id=\"df-3e6477c4-dbbc-47cb-a829-eb704332c02c\" class=\"colab-df-container\">\n",
              "    <div>\n",
              "<style scoped>\n",
              "    .dataframe tbody tr th:only-of-type {\n",
              "        vertical-align: middle;\n",
              "    }\n",
              "\n",
              "    .dataframe tbody tr th {\n",
              "        vertical-align: top;\n",
              "    }\n",
              "\n",
              "    .dataframe thead th {\n",
              "        text-align: right;\n",
              "    }\n",
              "</style>\n",
              "<table border=\"1\" class=\"dataframe\">\n",
              "  <thead>\n",
              "    <tr style=\"text-align: right;\">\n",
              "      <th></th>\n",
              "      <th>p103</th>\n",
              "      <th>p105</th>\n",
              "      <th>p107</th>\n",
              "      <th>p108</th>\n",
              "      <th>p109a</th>\n",
              "      <th>p109b</th>\n",
              "      <th>p201</th>\n",
              "      <th>p202</th>\n",
              "      <th>p203</th>\n",
              "      <th>p2041</th>\n",
              "      <th>...</th>\n",
              "      <th>p209t</th>\n",
              "      <th>p209ee</th>\n",
              "      <th>p213</th>\n",
              "      <th>p218</th>\n",
              "      <th>p220</th>\n",
              "      <th>p222</th>\n",
              "      <th>P224</th>\n",
              "      <th>P225</th>\n",
              "      <th>ingtot</th>\n",
              "      <th>ocu200</th>\n",
              "    </tr>\n",
              "  </thead>\n",
              "  <tbody>\n",
              "    <tr>\n",
              "      <th>0</th>\n",
              "      <td>1</td>\n",
              "      <td>2</td>\n",
              "      <td>1</td>\n",
              "      <td>41</td>\n",
              "      <td>6</td>\n",
              "      <td>5</td>\n",
              "      <td>1</td>\n",
              "      <td>1</td>\n",
              "      <td></td>\n",
              "      <td></td>\n",
              "      <td>...</td>\n",
              "      <td>35</td>\n",
              "      <td>2</td>\n",
              "      <td></td>\n",
              "      <td>0</td>\n",
              "      <td>1</td>\n",
              "      <td>5</td>\n",
              "      <td>9</td>\n",
              "      <td>10</td>\n",
              "      <td>2952</td>\n",
              "      <td>1</td>\n",
              "    </tr>\n",
              "    <tr>\n",
              "      <th>1</th>\n",
              "      <td>1</td>\n",
              "      <td>2</td>\n",
              "      <td>1</td>\n",
              "      <td>55</td>\n",
              "      <td>5</td>\n",
              "      <td>3</td>\n",
              "      <td>1</td>\n",
              "      <td>1</td>\n",
              "      <td></td>\n",
              "      <td></td>\n",
              "      <td>...</td>\n",
              "      <td>38</td>\n",
              "      <td>2</td>\n",
              "      <td></td>\n",
              "      <td>0</td>\n",
              "      <td>1</td>\n",
              "      <td>5</td>\n",
              "      <td>9</td>\n",
              "      <td>10</td>\n",
              "      <td>2642</td>\n",
              "      <td>1</td>\n",
              "    </tr>\n",
              "    <tr>\n",
              "      <th>2</th>\n",
              "      <td>1</td>\n",
              "      <td>2</td>\n",
              "      <td>1</td>\n",
              "      <td>54</td>\n",
              "      <td>5</td>\n",
              "      <td>2</td>\n",
              "      <td>1</td>\n",
              "      <td>1</td>\n",
              "      <td></td>\n",
              "      <td></td>\n",
              "      <td>...</td>\n",
              "      <td>27</td>\n",
              "      <td>1</td>\n",
              "      <td></td>\n",
              "      <td>0</td>\n",
              "      <td>1</td>\n",
              "      <td>5</td>\n",
              "      <td>9</td>\n",
              "      <td>10</td>\n",
              "      <td>39</td>\n",
              "      <td>1</td>\n",
              "    </tr>\n",
              "    <tr>\n",
              "      <th>3</th>\n",
              "      <td>2</td>\n",
              "      <td>2</td>\n",
              "      <td>2</td>\n",
              "      <td>54</td>\n",
              "      <td>5</td>\n",
              "      <td>3</td>\n",
              "      <td>1</td>\n",
              "      <td>1</td>\n",
              "      <td></td>\n",
              "      <td></td>\n",
              "      <td>...</td>\n",
              "      <td>21</td>\n",
              "      <td></td>\n",
              "      <td></td>\n",
              "      <td>0</td>\n",
              "      <td>2</td>\n",
              "      <td>5</td>\n",
              "      <td>9</td>\n",
              "      <td>10</td>\n",
              "      <td>0</td>\n",
              "      <td>1</td>\n",
              "    </tr>\n",
              "    <tr>\n",
              "      <th>4</th>\n",
              "      <td>3</td>\n",
              "      <td>2</td>\n",
              "      <td>1</td>\n",
              "      <td>15</td>\n",
              "      <td>5</td>\n",
              "      <td>4</td>\n",
              "      <td>1</td>\n",
              "      <td>2</td>\n",
              "      <td></td>\n",
              "      <td></td>\n",
              "      <td>...</td>\n",
              "      <td></td>\n",
              "      <td></td>\n",
              "      <td>2</td>\n",
              "      <td>8</td>\n",
              "      <td>2</td>\n",
              "      <td>5</td>\n",
              "      <td>9</td>\n",
              "      <td>10</td>\n",
              "      <td></td>\n",
              "      <td>4</td>\n",
              "    </tr>\n",
              "    <tr>\n",
              "      <th>...</th>\n",
              "      <td>...</td>\n",
              "      <td>...</td>\n",
              "      <td>...</td>\n",
              "      <td>...</td>\n",
              "      <td>...</td>\n",
              "      <td>...</td>\n",
              "      <td>...</td>\n",
              "      <td>...</td>\n",
              "      <td>...</td>\n",
              "      <td>...</td>\n",
              "      <td>...</td>\n",
              "      <td>...</td>\n",
              "      <td>...</td>\n",
              "      <td>...</td>\n",
              "      <td>...</td>\n",
              "      <td>...</td>\n",
              "      <td>...</td>\n",
              "      <td>...</td>\n",
              "      <td>...</td>\n",
              "      <td>...</td>\n",
              "      <td>...</td>\n",
              "    </tr>\n",
              "    <tr>\n",
              "      <th>9246</th>\n",
              "      <td>2</td>\n",
              "      <td>2</td>\n",
              "      <td>1</td>\n",
              "      <td>54</td>\n",
              "      <td>6</td>\n",
              "      <td>5</td>\n",
              "      <td>2</td>\n",
              "      <td>2</td>\n",
              "      <td>2</td>\n",
              "      <td>2</td>\n",
              "      <td>...</td>\n",
              "      <td></td>\n",
              "      <td></td>\n",
              "      <td>2</td>\n",
              "      <td>3</td>\n",
              "      <td>1</td>\n",
              "      <td>1</td>\n",
              "      <td>7</td>\n",
              "      <td>10</td>\n",
              "      <td></td>\n",
              "      <td>3</td>\n",
              "    </tr>\n",
              "    <tr>\n",
              "      <th>9247</th>\n",
              "      <td>1</td>\n",
              "      <td>2</td>\n",
              "      <td>1</td>\n",
              "      <td>26</td>\n",
              "      <td>9</td>\n",
              "      <td>3</td>\n",
              "      <td>1</td>\n",
              "      <td>1</td>\n",
              "      <td></td>\n",
              "      <td></td>\n",
              "      <td>...</td>\n",
              "      <td>40</td>\n",
              "      <td>2</td>\n",
              "      <td></td>\n",
              "      <td>0</td>\n",
              "      <td>1</td>\n",
              "      <td>1</td>\n",
              "      <td>7</td>\n",
              "      <td>10</td>\n",
              "      <td>3000</td>\n",
              "      <td>1</td>\n",
              "    </tr>\n",
              "    <tr>\n",
              "      <th>9248</th>\n",
              "      <td>2</td>\n",
              "      <td>2</td>\n",
              "      <td>2</td>\n",
              "      <td>27</td>\n",
              "      <td>9</td>\n",
              "      <td>3</td>\n",
              "      <td>1</td>\n",
              "      <td>1</td>\n",
              "      <td></td>\n",
              "      <td></td>\n",
              "      <td>...</td>\n",
              "      <td>30</td>\n",
              "      <td>2</td>\n",
              "      <td></td>\n",
              "      <td>0</td>\n",
              "      <td>1</td>\n",
              "      <td>1</td>\n",
              "      <td>7</td>\n",
              "      <td>10</td>\n",
              "      <td>1100</td>\n",
              "      <td>1</td>\n",
              "    </tr>\n",
              "    <tr>\n",
              "      <th>9249</th>\n",
              "      <td>1</td>\n",
              "      <td>2</td>\n",
              "      <td>1</td>\n",
              "      <td>33</td>\n",
              "      <td>6</td>\n",
              "      <td>5</td>\n",
              "      <td>1</td>\n",
              "      <td>1</td>\n",
              "      <td></td>\n",
              "      <td></td>\n",
              "      <td>...</td>\n",
              "      <td>35</td>\n",
              "      <td>2</td>\n",
              "      <td></td>\n",
              "      <td>0</td>\n",
              "      <td>1</td>\n",
              "      <td>9</td>\n",
              "      <td>5</td>\n",
              "      <td>10</td>\n",
              "      <td>2700</td>\n",
              "      <td>1</td>\n",
              "    </tr>\n",
              "    <tr>\n",
              "      <th>9250</th>\n",
              "      <td>2</td>\n",
              "      <td>2</td>\n",
              "      <td>2</td>\n",
              "      <td>31</td>\n",
              "      <td>10</td>\n",
              "      <td>2</td>\n",
              "      <td>2</td>\n",
              "      <td>2</td>\n",
              "      <td>2</td>\n",
              "      <td>2</td>\n",
              "      <td>...</td>\n",
              "      <td></td>\n",
              "      <td></td>\n",
              "      <td>2</td>\n",
              "      <td>5</td>\n",
              "      <td>1</td>\n",
              "      <td>9</td>\n",
              "      <td>7</td>\n",
              "      <td>10</td>\n",
              "      <td></td>\n",
              "      <td>4</td>\n",
              "    </tr>\n",
              "  </tbody>\n",
              "</table>\n",
              "<p>9251 rows × 30 columns</p>\n",
              "</div>\n",
              "    <div class=\"colab-df-buttons\">\n",
              "\n",
              "  <div class=\"colab-df-container\">\n",
              "    <button class=\"colab-df-convert\" onclick=\"convertToInteractive('df-3e6477c4-dbbc-47cb-a829-eb704332c02c')\"\n",
              "            title=\"Convert this dataframe to an interactive table.\"\n",
              "            style=\"display:none;\">\n",
              "\n",
              "  <svg xmlns=\"http://www.w3.org/2000/svg\" height=\"24px\" viewBox=\"0 -960 960 960\">\n",
              "    <path d=\"M120-120v-720h720v720H120Zm60-500h600v-160H180v160Zm220 220h160v-160H400v160Zm0 220h160v-160H400v160ZM180-400h160v-160H180v160Zm440 0h160v-160H620v160ZM180-180h160v-160H180v160Zm440 0h160v-160H620v160Z\"/>\n",
              "  </svg>\n",
              "    </button>\n",
              "\n",
              "  <style>\n",
              "    .colab-df-container {\n",
              "      display:flex;\n",
              "      gap: 12px;\n",
              "    }\n",
              "\n",
              "    .colab-df-convert {\n",
              "      background-color: #E8F0FE;\n",
              "      border: none;\n",
              "      border-radius: 50%;\n",
              "      cursor: pointer;\n",
              "      display: none;\n",
              "      fill: #1967D2;\n",
              "      height: 32px;\n",
              "      padding: 0 0 0 0;\n",
              "      width: 32px;\n",
              "    }\n",
              "\n",
              "    .colab-df-convert:hover {\n",
              "      background-color: #E2EBFA;\n",
              "      box-shadow: 0px 1px 2px rgba(60, 64, 67, 0.3), 0px 1px 3px 1px rgba(60, 64, 67, 0.15);\n",
              "      fill: #174EA6;\n",
              "    }\n",
              "\n",
              "    .colab-df-buttons div {\n",
              "      margin-bottom: 4px;\n",
              "    }\n",
              "\n",
              "    [theme=dark] .colab-df-convert {\n",
              "      background-color: #3B4455;\n",
              "      fill: #D2E3FC;\n",
              "    }\n",
              "\n",
              "    [theme=dark] .colab-df-convert:hover {\n",
              "      background-color: #434B5C;\n",
              "      box-shadow: 0px 1px 3px 1px rgba(0, 0, 0, 0.15);\n",
              "      filter: drop-shadow(0px 1px 2px rgba(0, 0, 0, 0.3));\n",
              "      fill: #FFFFFF;\n",
              "    }\n",
              "  </style>\n",
              "\n",
              "    <script>\n",
              "      const buttonEl =\n",
              "        document.querySelector('#df-3e6477c4-dbbc-47cb-a829-eb704332c02c button.colab-df-convert');\n",
              "      buttonEl.style.display =\n",
              "        google.colab.kernel.accessAllowed ? 'block' : 'none';\n",
              "\n",
              "      async function convertToInteractive(key) {\n",
              "        const element = document.querySelector('#df-3e6477c4-dbbc-47cb-a829-eb704332c02c');\n",
              "        const dataTable =\n",
              "          await google.colab.kernel.invokeFunction('convertToInteractive',\n",
              "                                                    [key], {});\n",
              "        if (!dataTable) return;\n",
              "\n",
              "        const docLinkHtml = 'Like what you see? Visit the ' +\n",
              "          '<a target=\"_blank\" href=https://colab.research.google.com/notebooks/data_table.ipynb>data table notebook</a>'\n",
              "          + ' to learn more about interactive tables.';\n",
              "        element.innerHTML = '';\n",
              "        dataTable['output_type'] = 'display_data';\n",
              "        await google.colab.output.renderOutput(dataTable, element);\n",
              "        const docLink = document.createElement('div');\n",
              "        docLink.innerHTML = docLinkHtml;\n",
              "        element.appendChild(docLink);\n",
              "      }\n",
              "    </script>\n",
              "  </div>\n",
              "\n",
              "\n",
              "<div id=\"df-d09e8b3f-9126-4333-b278-476159550a77\">\n",
              "  <button class=\"colab-df-quickchart\" onclick=\"quickchart('df-d09e8b3f-9126-4333-b278-476159550a77')\"\n",
              "            title=\"Suggest charts\"\n",
              "            style=\"display:none;\">\n",
              "\n",
              "<svg xmlns=\"http://www.w3.org/2000/svg\" height=\"24px\"viewBox=\"0 0 24 24\"\n",
              "     width=\"24px\">\n",
              "    <g>\n",
              "        <path d=\"M19 3H5c-1.1 0-2 .9-2 2v14c0 1.1.9 2 2 2h14c1.1 0 2-.9 2-2V5c0-1.1-.9-2-2-2zM9 17H7v-7h2v7zm4 0h-2V7h2v10zm4 0h-2v-4h2v4z\"/>\n",
              "    </g>\n",
              "</svg>\n",
              "  </button>\n",
              "\n",
              "<style>\n",
              "  .colab-df-quickchart {\n",
              "      --bg-color: #E8F0FE;\n",
              "      --fill-color: #1967D2;\n",
              "      --hover-bg-color: #E2EBFA;\n",
              "      --hover-fill-color: #174EA6;\n",
              "      --disabled-fill-color: #AAA;\n",
              "      --disabled-bg-color: #DDD;\n",
              "  }\n",
              "\n",
              "  [theme=dark] .colab-df-quickchart {\n",
              "      --bg-color: #3B4455;\n",
              "      --fill-color: #D2E3FC;\n",
              "      --hover-bg-color: #434B5C;\n",
              "      --hover-fill-color: #FFFFFF;\n",
              "      --disabled-bg-color: #3B4455;\n",
              "      --disabled-fill-color: #666;\n",
              "  }\n",
              "\n",
              "  .colab-df-quickchart {\n",
              "    background-color: var(--bg-color);\n",
              "    border: none;\n",
              "    border-radius: 50%;\n",
              "    cursor: pointer;\n",
              "    display: none;\n",
              "    fill: var(--fill-color);\n",
              "    height: 32px;\n",
              "    padding: 0;\n",
              "    width: 32px;\n",
              "  }\n",
              "\n",
              "  .colab-df-quickchart:hover {\n",
              "    background-color: var(--hover-bg-color);\n",
              "    box-shadow: 0 1px 2px rgba(60, 64, 67, 0.3), 0 1px 3px 1px rgba(60, 64, 67, 0.15);\n",
              "    fill: var(--button-hover-fill-color);\n",
              "  }\n",
              "\n",
              "  .colab-df-quickchart-complete:disabled,\n",
              "  .colab-df-quickchart-complete:disabled:hover {\n",
              "    background-color: var(--disabled-bg-color);\n",
              "    fill: var(--disabled-fill-color);\n",
              "    box-shadow: none;\n",
              "  }\n",
              "\n",
              "  .colab-df-spinner {\n",
              "    border: 2px solid var(--fill-color);\n",
              "    border-color: transparent;\n",
              "    border-bottom-color: var(--fill-color);\n",
              "    animation:\n",
              "      spin 1s steps(1) infinite;\n",
              "  }\n",
              "\n",
              "  @keyframes spin {\n",
              "    0% {\n",
              "      border-color: transparent;\n",
              "      border-bottom-color: var(--fill-color);\n",
              "      border-left-color: var(--fill-color);\n",
              "    }\n",
              "    20% {\n",
              "      border-color: transparent;\n",
              "      border-left-color: var(--fill-color);\n",
              "      border-top-color: var(--fill-color);\n",
              "    }\n",
              "    30% {\n",
              "      border-color: transparent;\n",
              "      border-left-color: var(--fill-color);\n",
              "      border-top-color: var(--fill-color);\n",
              "      border-right-color: var(--fill-color);\n",
              "    }\n",
              "    40% {\n",
              "      border-color: transparent;\n",
              "      border-right-color: var(--fill-color);\n",
              "      border-top-color: var(--fill-color);\n",
              "    }\n",
              "    60% {\n",
              "      border-color: transparent;\n",
              "      border-right-color: var(--fill-color);\n",
              "    }\n",
              "    80% {\n",
              "      border-color: transparent;\n",
              "      border-right-color: var(--fill-color);\n",
              "      border-bottom-color: var(--fill-color);\n",
              "    }\n",
              "    90% {\n",
              "      border-color: transparent;\n",
              "      border-bottom-color: var(--fill-color);\n",
              "    }\n",
              "  }\n",
              "</style>\n",
              "\n",
              "  <script>\n",
              "    async function quickchart(key) {\n",
              "      const quickchartButtonEl =\n",
              "        document.querySelector('#' + key + ' button');\n",
              "      quickchartButtonEl.disabled = true;  // To prevent multiple clicks.\n",
              "      quickchartButtonEl.classList.add('colab-df-spinner');\n",
              "      try {\n",
              "        const charts = await google.colab.kernel.invokeFunction(\n",
              "            'suggestCharts', [key], {});\n",
              "      } catch (error) {\n",
              "        console.error('Error during call to suggestCharts:', error);\n",
              "      }\n",
              "      quickchartButtonEl.classList.remove('colab-df-spinner');\n",
              "      quickchartButtonEl.classList.add('colab-df-quickchart-complete');\n",
              "    }\n",
              "    (() => {\n",
              "      let quickchartButtonEl =\n",
              "        document.querySelector('#df-d09e8b3f-9126-4333-b278-476159550a77 button');\n",
              "      quickchartButtonEl.style.display =\n",
              "        google.colab.kernel.accessAllowed ? 'block' : 'none';\n",
              "    })();\n",
              "  </script>\n",
              "</div>\n",
              "    </div>\n",
              "  </div>\n"
            ]
          },
          "metadata": {},
          "execution_count": 1
        }
      ],
      "source": [
        "import pandas as pd\n",
        "data = pd.read_csv(\"/content/Moquegua_EPEN_2022_ICA.csv\", encoding=\"ISO-8859-1\", delimiter=\";\")\n",
        "data"
      ]
    },
    {
      "cell_type": "code",
      "execution_count": null,
      "metadata": {
        "id": "GjwoXJ2eMn8I"
      },
      "outputs": [],
      "source": [
        "#pd.set_option('display.max_columns', None)"
      ]
    },
    {
      "cell_type": "code",
      "source": [
        "#print(data.isnull().sum())\n",
        "data_filled = data.fillna(' ')\n",
        "\n",
        "# Contar las celdas que tienen espacios en blanco por columna\n",
        "space_counts = (data_filled == ' ').sum()\n",
        "\n",
        "# Imprimir la cantidad de celdas con espacios en blanco por columna\n",
        "for col, count in space_counts.items():\n",
        "    print(f'{col}: {count}\\n')\n"
      ],
      "metadata": {
        "colab": {
          "base_uri": "https://localhost:8080/"
        },
        "id": "f4Ji84XQfwn2",
        "outputId": "ad1e3b8b-e651-48ee-e4e2-e142d8d511a6"
      },
      "execution_count": null,
      "outputs": [
        {
          "output_type": "stream",
          "name": "stdout",
          "text": [
            "p103: 0\n",
            "\n",
            "p105: 0\n",
            "\n",
            "p107: 0\n",
            "\n",
            "p108: 0\n",
            "\n",
            "p109a: 0\n",
            "\n",
            "p109b: 0\n",
            "\n",
            "p201: 0\n",
            "\n",
            "p202: 0\n",
            "\n",
            "p203: 5027\n",
            "\n",
            "p2041: 5072\n",
            "\n",
            "p2042: 5072\n",
            "\n",
            "p2043: 5072\n",
            "\n",
            "p2044: 5072\n",
            "\n",
            "p2045: 5072\n",
            "\n",
            "p2046: 5072\n",
            "\n",
            "p2047: 5072\n",
            "\n",
            "p2048: 5072\n",
            "\n",
            "p2049: 5072\n",
            "\n",
            "p206: 0\n",
            "\n",
            "P206AA: 1119\n",
            "\n",
            "p209t: 4055\n",
            "\n",
            "p209ee: 4376\n",
            "\n",
            "p213: 5184\n",
            "\n",
            "p218: 0\n",
            "\n",
            "p220: 0\n",
            "\n",
            "p222: 0\n",
            "\n",
            "P224: 0\n",
            "\n",
            "P225: 0\n",
            "\n",
            "ingtot: 4055\n",
            "\n",
            "ocu200: 0\n",
            "\n"
          ]
        }
      ]
    },
    {
      "cell_type": "code",
      "source": [
        "#pd.reset_option('display.max_columns')"
      ],
      "metadata": {
        "id": "5l03visgfuda"
      },
      "execution_count": null,
      "outputs": []
    },
    {
      "cell_type": "code",
      "execution_count": null,
      "metadata": {
        "colab": {
          "base_uri": "https://localhost:8080/"
        },
        "id": "z2zfLAfDSWE0",
        "outputId": "00a76e94-4362-425a-d99a-06c5e85609a3"
      },
      "outputs": [
        {
          "output_type": "stream",
          "name": "stdout",
          "text": [
            "p103: int64\n",
            "\n",
            "p105: int64\n",
            "\n",
            "p107: int64\n",
            "\n",
            "p108: int64\n",
            "\n",
            "p109a: int64\n",
            "\n",
            "p109b: int64\n",
            "\n",
            "p201: int64\n",
            "\n",
            "p202: int64\n",
            "\n",
            "p203: object\n",
            "\n",
            "p2041: object\n",
            "\n",
            "p2042: object\n",
            "\n",
            "p2043: object\n",
            "\n",
            "p2044: object\n",
            "\n",
            "p2045: object\n",
            "\n",
            "p2046: object\n",
            "\n",
            "p2047: object\n",
            "\n",
            "p2048: object\n",
            "\n",
            "p2049: object\n",
            "\n",
            "p206: int64\n",
            "\n",
            "P206AA: object\n",
            "\n",
            "p209t: object\n",
            "\n",
            "p209ee: object\n",
            "\n",
            "p213: object\n",
            "\n",
            "p218: int64\n",
            "\n",
            "p220: int64\n",
            "\n",
            "p222: int64\n",
            "\n",
            "P224: int64\n",
            "\n",
            "P225: int64\n",
            "\n",
            "ingtot: object\n",
            "\n",
            "ocu200: int64\n",
            "\n"
          ]
        }
      ],
      "source": [
        "for col, count in data.dtypes.items():\n",
        "    print(f'{col}: {count}\\n')\n",
        "\n",
        "#data.head()"
      ]
    },
    {
      "cell_type": "markdown",
      "metadata": {
        "id": "euh0Pdj5HHo3"
      },
      "source": [
        "##**Imputation Data**\n",
        "\n",
        "---\n",
        "\n"
      ]
    },
    {
      "cell_type": "code",
      "execution_count": null,
      "metadata": {
        "id": "aDL_DBRon3fS"
      },
      "outputs": [],
      "source": [
        "#p105 vacios a 2:No\n",
        "#data['p105'] = data['p105'].replace('', 2)\n",
        "#data['p105'] = data['p105'].replace(' ', 2)\n",
        "\n",
        "#p106 eliminar columna\n",
        "#data.drop('p106', axis=1, inplace=True)\n",
        "\n",
        "#p109b  llenar los valores faltantes en una columna con el promedio de los valores de esa misma columna,\n",
        "#pero solo para las filas donde otra columna tenga el valor 3\n",
        "#data['p109b'] = data['p109b'].astype(int)\n",
        "#promedio_redondeado = round(data['p109b'].mean())  ###### 4\n",
        "#data.loc[data['p109a'] == 3, 'p109b'] = data.loc[data['p109a'] == 3, 'p109b'].fillna(promedio_redondeado)\n",
        "\n",
        "#p203\n",
        "data['p203'].fillna(0, inplace=True)\n",
        "data['p203'] = data['p203'].replace('', 0)\n",
        "data['p203'] = data['p203'].replace(' ', 0)\n",
        "#p2041\n",
        "data['p2041'].fillna(2, inplace=True)\n",
        "data['p2041'] = data['p2041'].replace('', 2)\n",
        "data['p2041'] = data['p2041'].replace(' ', 2)\n",
        "#p2042\n",
        "data['p2042'].fillna(2, inplace=True)\n",
        "data['p2042'] = data['p2042'].replace('', 2)\n",
        "data['p2042'] = data['p2042'].replace(' ', 2)\n",
        "#p2043\n",
        "data['p2043'].fillna(2, inplace=True)\n",
        "data['p2043'] = data['p2043'].replace('', 2)\n",
        "data['p2043'] = data['p2043'].replace(' ', 2)\n",
        "#p2044\n",
        "data['p2044'].fillna(2, inplace=True)\n",
        "data['p2044'] = data['p2044'].replace('', 2)\n",
        "data['p2044'] = data['p2044'].replace(' ', 2)\n",
        "#p2045\n",
        "data['p2045'].fillna(2, inplace=True)\n",
        "data['p2045'] = data['p2045'].replace('', 2)\n",
        "data['p2045'] = data['p2045'].replace(' ', 2)\n",
        "#p2046\n",
        "data['p2046'].fillna(2, inplace=True)\n",
        "data['p2046'] = data['p2046'].replace('', 2)\n",
        "data['p2046'] = data['p2046'].replace(' ', 2)\n",
        "#p2047\n",
        "#data['p2047'].fillna(2, inplace=True)\n",
        "data['p2047'] = data['p2047'].replace('', 2)\n",
        "data['p2047'] = data['p2047'].replace(' ', 2)\n",
        "#p2048\n",
        "#data['p2048'].fillna(2, inplace=True)\n",
        "data['p2048'] = data['p2048'].replace('', 2)\n",
        "data['p2048'] = data['p2048'].replace(' ', 2)\n",
        "#p2049\n",
        "#data['p2049'].fillna(2, inplace=True)\n",
        "data['p2049'] = data['p2049'].replace('', 2)\n",
        "data['p2049'] = data['p2049'].replace(' ', 2)\n",
        "#P206AA\n",
        "data['P206AA'].fillna(0, inplace=True)\n",
        "data['P206AA'] = data['P206AA'].replace('', 0)\n",
        "data['P206AA'] = data['P206AA'].replace(' ', 0)\n",
        "#p208b3\n",
        "#data['p208b3'].fillna(0, inplace=True)\n",
        "#data['p208b3'] = data['p208b3'].replace('', 0)\n",
        "#data['p208b3'] = data['p208b3'].replace(' ', 0)\n",
        "#p209t\n",
        "#data['p209t'].fillna(0, inplace=True)\n",
        "data['p209t'] = data['p209t'].replace('', 0)\n",
        "data['p209t'] = data['p209t'].replace(' ', 0)\n",
        "#p209ee\n",
        "#data['p209ee'].fillna(2, inplace=True)\n",
        "data['p209ee'] = data['p209ee'].replace('', 2)\n",
        "data['p209ee'] = data['p209ee'].replace(' ', 2)\n",
        "#p213\n",
        "#data['p213'].fillna(2, inplace=True)\n",
        "data['p213'] = data['p213'].replace('', 2)\n",
        "data['p213'] = data['p213'].replace(' ', 2)\n",
        "#p222\n",
        "#data['p222'].fillna(6, inplace=True)\n",
        "#data['p222'] = data['p222'].replace('', 6)\n",
        "#data['p222'] = data['p222'].replace(' ', 6)\n",
        "#P224\n",
        "#data['P224'].fillna(8, inplace=True)\n",
        "#data['P224'] = data['P224'].replace('', 8)\n",
        "#data['P224'] = data['P224'].replace(' ', 8)\n",
        "#P225\n",
        "#data['P225'].fillna(4, inplace=True)\n",
        "#data['P225'] = data['P225'].replace('', 4)\n",
        "#data['P225'] = data['P225'].replace(' ', 4)\n",
        "#ingtot\n",
        "data['ingtot'].fillna(0, inplace=True)\n",
        "data['ingtot'] = data['ingtot'].replace('', 0)\n",
        "data['ingtot'] = data['ingtot'].replace(' ', 0)"
      ]
    },
    {
      "cell_type": "code",
      "execution_count": null,
      "metadata": {
        "colab": {
          "base_uri": "https://localhost:8080/"
        },
        "id": "d6rxBaIoqvHC",
        "outputId": "a54c09a9-2674-42a1-c032-acdcbdda1d1d"
      },
      "outputs": [
        {
          "output_type": "stream",
          "name": "stdout",
          "text": [
            "p103: 0\n",
            "\n",
            "p105: 0\n",
            "\n",
            "p107: 0\n",
            "\n",
            "p108: 0\n",
            "\n",
            "p109a: 0\n",
            "\n",
            "p109b: 0\n",
            "\n",
            "p201: 0\n",
            "\n",
            "p202: 0\n",
            "\n",
            "p203: 0\n",
            "\n",
            "p2041: 0\n",
            "\n",
            "p2042: 0\n",
            "\n",
            "p2043: 0\n",
            "\n",
            "p2044: 0\n",
            "\n",
            "p2045: 0\n",
            "\n",
            "p2046: 0\n",
            "\n",
            "p2047: 0\n",
            "\n",
            "p2048: 0\n",
            "\n",
            "p2049: 0\n",
            "\n",
            "p206: 0\n",
            "\n",
            "P206AA: 0\n",
            "\n",
            "p209t: 0\n",
            "\n",
            "p209ee: 0\n",
            "\n",
            "p213: 0\n",
            "\n",
            "p218: 0\n",
            "\n",
            "p220: 0\n",
            "\n",
            "p222: 0\n",
            "\n",
            "P224: 0\n",
            "\n",
            "P225: 0\n",
            "\n",
            "ingtot: 0\n",
            "\n",
            "ocu200: 0\n",
            "\n"
          ]
        }
      ],
      "source": [
        "#print(data.isnull().sum())\n",
        "data_filled = data.fillna(' ')\n",
        "\n",
        "# Contar las celdas que tienen espacios en blanco por columna\n",
        "space_counts = (data_filled == ' ').sum()\n",
        "\n",
        "# Imprimir la cantidad de celdas con espacios en blanco por columna\n",
        "for col, count in space_counts.items():\n",
        "    print(f'{col}: {count}\\n')"
      ]
    },
    {
      "cell_type": "markdown",
      "metadata": {
        "id": "Nx44YivjHii7"
      },
      "source": [
        "##**Categorical Encoding**\n",
        "\n",
        "---"
      ]
    },
    {
      "cell_type": "code",
      "execution_count": null,
      "metadata": {
        "id": "rYeIqeMdS9QO"
      },
      "outputs": [],
      "source": [
        "#type data\n",
        "#data[\"precio_ahora\"] = data[\"precio_ahora\"].str.replace(',', '.').astype(float)\n",
        "#data[\"descuento\"] = data[\"descuento\"].str.replace(',', '.').astype(float)\n",
        "#data[\"cantidad_ventas\"] = data[\"cantidad_ventas\"].astype(int)\n",
        "#data[\"valoracion\"] = data[\"valoracion\"].str.replace(',', '.').astype(float)\n",
        "#data[\"cantidad_calificaciones\"] = data[\"cantidad_calificaciones\"].astype(int)\n",
        "#data[\"ventas_vendedor\"] = data[\"ventas_vendedor\"].astype(float)\n",
        "\n",
        "#categorical data\n",
        "#data[\"condicion\"] = data[\"condicion\"].astype('category')\n",
        "#data[\"envio\"] = data[\"envio\"].astype('category')\n",
        "#data[\"atencion_vendedor\"] = data[\"atencion_vendedor\"].astype('category')\n"
      ]
    },
    {
      "cell_type": "code",
      "execution_count": null,
      "metadata": {
        "id": "nMVVsNiG3b0H"
      },
      "outputs": [],
      "source": [
        "#descuento vacios a 0\n",
        "#data['descuento'].fillna(0, inplace=True)\n",
        "#valoracion vacios a 0\n",
        "#data['valoracion'].fillna(0, inplace=True)\n",
        "\n",
        "#categorical data\n",
        "#data[\"categoria\"] = data[\"categoria\"].astype('category')\n",
        "##primero redondeamos al valor mas cercano la valoracion\n",
        "#data['valoracion'] = data['valoracion'].apply(round)\n",
        "#data[\"valoracion\"] = data[\"valoracion\"].astype('category')"
      ]
    },
    {
      "cell_type": "code",
      "execution_count": null,
      "metadata": {
        "id": "0EbiskKr4Z33"
      },
      "outputs": [],
      "source": [
        "#Drop all the numerical y object data and select categorical data\n",
        "#categorical_data = data.drop(['titulo', 'precio_antes', 'precio_ahora',\n",
        "#                              'descuento', 'cantidad_ventas', 'garantia',\n",
        "#                              'cantidad_calificaciones', 'ventas_vendedor'],\n",
        "#                              axis=1)\n",
        "#categorical_data.head()"
      ]
    },
    {
      "cell_type": "markdown",
      "metadata": {
        "id": "xc0as7iaHrrr"
      },
      "source": [
        "###**Label Encoding**\n",
        "\n",
        "---"
      ]
    },
    {
      "cell_type": "code",
      "execution_count": null,
      "metadata": {
        "id": "xP63rVeWIfS7"
      },
      "outputs": [],
      "source": [
        "#label encoding\n",
        "#categorical_data[\"condicion\"] = categorical_data[\"condicion\"].cat.codes\n",
        "#categorical_data[\"envio\"] = categorical_data[\"envio\"].cat.codes\n",
        "#categorical_data[\"atencion_vendedor\"] = categorical_data[\"atencion_vendedor\"].cat.codes"
      ]
    },
    {
      "cell_type": "code",
      "execution_count": null,
      "metadata": {
        "id": "U0gSTt8XNIkS"
      },
      "outputs": [],
      "source": [
        "#categorical_data"
      ]
    },
    {
      "cell_type": "code",
      "execution_count": null,
      "metadata": {
        "id": "zEgxcG76N554"
      },
      "outputs": [],
      "source": [
        "#numerical_data = data.drop(['categoria', 'condicion', 'envio', 'valoracion', 'atencion_vendedor'], axis=1)\n",
        "#numerical_data.head()"
      ]
    },
    {
      "cell_type": "code",
      "execution_count": null,
      "metadata": {
        "id": "CKWt6mG4OZQA"
      },
      "outputs": [],
      "source": [
        "#dataset_new = categorical_data.join(numerical_data)\n",
        "#dataset_new.head()"
      ]
    },
    {
      "cell_type": "markdown",
      "source": [
        "###**One Hot Encoding**\n",
        "\n",
        "---"
      ],
      "metadata": {
        "id": "sujHyXElecpw"
      }
    },
    {
      "cell_type": "code",
      "source": [
        "# poner el one hot encoding\n",
        "#encoded_condicion = pd.get_dummies(dataset_new['condicion'])"
      ],
      "metadata": {
        "id": "7Itp4Ec6egME"
      },
      "execution_count": null,
      "outputs": []
    },
    {
      "cell_type": "code",
      "source": [
        "#unir\n",
        "#dataset_new = dataset_new.join(encoded_condicion)"
      ],
      "metadata": {
        "id": "Jz3wkzd3f1_V"
      },
      "execution_count": null,
      "outputs": []
    },
    {
      "cell_type": "code",
      "source": [
        "#dataset_new = dataset_new.drop(['condicion'], axis=1)\n",
        "#dataset_new.head()"
      ],
      "metadata": {
        "id": "8KQLN_L4gGxs"
      },
      "execution_count": null,
      "outputs": []
    },
    {
      "cell_type": "markdown",
      "metadata": {
        "id": "59asbtigKeqL"
      },
      "source": [
        "###**Target Encoding**\n",
        "\n",
        "---"
      ]
    },
    {
      "cell_type": "code",
      "execution_count": null,
      "metadata": {
        "id": "hsw96t8PKa2M"
      },
      "outputs": [],
      "source": [
        "#target encoding\n",
        "#target encoding_atributo categoria\n",
        "#dataset_new['categoria'] = dataset_new['categoria'].astype('category')\n",
        "#dataset_new['categoria'] = dataset_new['categoria'].cat.codes"
      ]
    },
    {
      "cell_type": "code",
      "execution_count": null,
      "metadata": {
        "id": "1LolHX6_PvLt"
      },
      "outputs": [],
      "source": [
        "#target encoding_atributo valoracion\n",
        "##intervals = [(0.0, 1.0), (1.0, 2.0), (2.0, 3.0), (3.0, 4.0), (4.0, 5.0)]\n",
        "##codes = [0, 1, 2, 3, 4]\n",
        "##from sklearn.preprocessing import LabelEncoder\n",
        "##intervalos = [0, 1, 2, 3, 4, 5]\n",
        "##codes = ['[0-1>', '[1-2>', '[2-3>', '[3-4>', '[4-5]']\n",
        "##label_encoder = LabelEncoder()\n",
        "##label_encoder.fit(codes)\n",
        "#dataset_new['valoracion'] = dataset_new['valoracion'].astype('category')\n",
        "#dataset_new['valoracion'] = dataset_new['valoracion'].cat.codes"
      ]
    },
    {
      "cell_type": "code",
      "execution_count": null,
      "metadata": {
        "id": "HYXMlNkWVPRv"
      },
      "outputs": [],
      "source": [
        "##categorical_data['valoracion'] = pd.to_numeric(categorical_data['valoracion'], errors='coerce')"
      ]
    },
    {
      "cell_type": "code",
      "execution_count": null,
      "metadata": {
        "id": "jb2jyIYvR3zV"
      },
      "outputs": [],
      "source": [
        "##categorical_data['valoracion_encoded'] = pd.cut(categorical_data['valoracion'], bins=intervalos, labels=codes, include_lowest=True)"
      ]
    },
    {
      "cell_type": "code",
      "execution_count": null,
      "metadata": {
        "id": "Lko2YETaipOd"
      },
      "outputs": [],
      "source": [
        "#comprobar types\n",
        "#print(dataset_new.dtypes)"
      ]
    },
    {
      "cell_type": "code",
      "execution_count": null,
      "metadata": {
        "id": "i_FOZb_Vfbkh"
      },
      "outputs": [],
      "source": [
        "#fase_means = dataset_new.groupby('valoracion')['categoria'].mean()\n",
        "#fase_means"
      ]
    },
    {
      "cell_type": "code",
      "execution_count": null,
      "metadata": {
        "id": "CZbaVrEnH6K_"
      },
      "outputs": [],
      "source": [
        "#dataset_new.head()"
      ]
    },
    {
      "cell_type": "code",
      "execution_count": null,
      "metadata": {
        "id": "OjqNdAFkbMKz"
      },
      "outputs": [],
      "source": [
        "#dataset_new = dataset_new.drop(['titulo', 'garantia'], axis=1)\n",
        "#dataset_new.head()"
      ]
    },
    {
      "cell_type": "code",
      "source": [
        "#poner la clase al ultimo de las columnas\n",
        "#dataset_new1 = dataset_new.drop(['valoracion'], axis=1)\n",
        "#dataset_new1.head()"
      ],
      "metadata": {
        "id": "tr8xcmKO6wCv"
      },
      "execution_count": null,
      "outputs": []
    },
    {
      "cell_type": "code",
      "source": [
        "#dataset_new2 = dataset_new.drop(['categoria', 'envio', 'atencion_vendedor', 'precio_antes', 'precio_ahora', 'descuento', 'cantidad_ventas', 'cantidad_calificaciones', 'ventas_vendedor', 'nuevo ','usado'], axis=1)\n",
        "#dataset_new2.head()"
      ],
      "metadata": {
        "id": "Ba-gX5o77XhY"
      },
      "execution_count": null,
      "outputs": []
    },
    {
      "cell_type": "code",
      "source": [
        "#dataset_new = dataset_new1.join(dataset_new2)\n",
        "#dataset_new.head()"
      ],
      "metadata": {
        "id": "z4ppnOfc-ZUd"
      },
      "execution_count": null,
      "outputs": []
    },
    {
      "cell_type": "markdown",
      "metadata": {
        "id": "RgT_oTlrcvqj"
      },
      "source": [
        "###**Exportar CSV Modificado**\n",
        "\n",
        "---"
      ]
    },
    {
      "cell_type": "code",
      "execution_count": null,
      "metadata": {
        "id": "EDPJaHHvcOCN"
      },
      "outputs": [],
      "source": [
        "#exportar csv modificado\n",
        "data.to_csv('NEW_CSV_Indicador_Condición_Actividad_Moquegua.csv', index=False)"
      ]
    },
    {
      "cell_type": "markdown",
      "metadata": {
        "id": "cVKsiNfXFiyA"
      },
      "source": [
        "#**Balancear clases**\n",
        "\n",
        "---"
      ]
    },
    {
      "cell_type": "code",
      "execution_count": null,
      "metadata": {
        "colab": {
          "base_uri": "https://localhost:8080/"
        },
        "id": "NOh6uTxHB8fM",
        "outputId": "d6b9189f-6824-417f-c5d9-329549d398d1"
      },
      "outputs": [
        {
          "output_type": "stream",
          "name": "stdout",
          "text": [
            "(9251, 30)\n",
            "1    5196\n",
            "4    3081\n",
            "2     710\n",
            "3     264\n",
            "Name: ocu200, dtype: int64\n"
          ]
        }
      ],
      "source": [
        "print(data.shape)\n",
        "print(pd.value_counts(data['ocu200'], sort = True))"
      ]
    },
    {
      "cell_type": "code",
      "execution_count": null,
      "metadata": {
        "colab": {
          "base_uri": "https://localhost:8080/",
          "height": 449
        },
        "id": "QUEPtd8WIeei",
        "outputId": "4f06c649-e5be-4405-a4be-ef5eed65673e"
      },
      "outputs": [
        {
          "output_type": "display_data",
          "data": {
            "text/plain": [
              "<Figure size 640x480 with 1 Axes>"
            ],
            "image/png": "[encoded data removed]"
          },
          "metadata": {}
        }
      ],
      "source": [
        "import matplotlib.pyplot as plt\n",
        "count_classes = pd.value_counts(data['ocu200'], sort = True)\n",
        "count_classes.plot(kind = 'bar', rot=0)\n",
        "#plt.xticks(range(8))\n",
        "#plt.title(\"Numero de registros por clase\")\n",
        "plt.xlabel(\"Clases\")\n",
        "plt.ylabel(\"Numero de registros\");"
      ]
    },
    {
      "cell_type": "code",
      "execution_count": null,
      "metadata": {
        "id": "oPtJEV186Gsk"
      },
      "outputs": [],
      "source": [
        "# load and summarize the dataset\n",
        "from pandas import read_csv\n",
        "from collections import Counter\n",
        "from matplotlib import pyplot\n",
        "from sklearn.preprocessing import LabelEncoder\n",
        "# define the dataset location\n",
        "url = '/content/NEW_CSV_Indicador_Condición_Actividad.csv'\n",
        "# load the csv file as a data frame\n",
        "df = read_csv(url, header=None)\n",
        "#df = read_csv(dataset_new, header=None)\n",
        "data = df.values"
      ]
    },
    {
      "cell_type": "code",
      "execution_count": null,
      "metadata": {
        "colab": {
          "base_uri": "https://localhost:8080/"
        },
        "id": "ougOvnmk6Zwx",
        "outputId": "706ec12b-2961-41fd-c42f-969598322465"
      },
      "outputs": [
        {
          "output_type": "execute_result",
          "data": {
            "text/plain": [
              "array([['p103', 'p105', 'p107', ..., 'P225', 'ingtot', 'ocu200'],\n",
              "       ['5', '2', '2', ..., '1', '0', '4'],\n",
              "       ['5', '2', '2', ..., '4', '0', '4'],\n",
              "       ...,\n",
              "       ['3', '2', '1', ..., '4', '0', '3'],\n",
              "       ['3', '2', '2', ..., '4', '0', '3'],\n",
              "       ['1', '2', '2', ..., '1', '0', '3']], dtype=object)"
            ]
          },
          "metadata": {},
          "execution_count": 20
        }
      ],
      "source": [
        "data"
      ]
    },
    {
      "cell_type": "code",
      "execution_count": null,
      "metadata": {
        "id": "I3jXaE7Dwz3G"
      },
      "outputs": [],
      "source": [
        "# split into input and output elements\n",
        "X, y = data[:, :-1][1:], data[:, -1][1:] #X:todo menos el ultimo columna, y:ultima columna menos la primera fila"
      ]
    },
    {
      "cell_type": "code",
      "execution_count": null,
      "metadata": {
        "colab": {
          "base_uri": "https://localhost:8080/"
        },
        "id": "XPn-sZxk9nYC",
        "outputId": "4f5e2dd2-b8df-4da9-a78f-7385460ad295"
      },
      "outputs": [
        {
          "output_type": "execute_result",
          "data": {
            "text/plain": [
              "array(['4', '4', '4', ..., '3', '3', '3'], dtype=object)"
            ]
          },
          "metadata": {},
          "execution_count": 22
        }
      ],
      "source": [
        "y"
      ]
    },
    {
      "cell_type": "code",
      "source": [
        "X"
      ],
      "metadata": {
        "colab": {
          "base_uri": "https://localhost:8080/"
        },
        "id": "ZTOmEORI7luK",
        "outputId": "ea4dff09-5bce-4b2b-82bf-df50db6e46cb"
      },
      "execution_count": null,
      "outputs": [
        {
          "output_type": "execute_result",
          "data": {
            "text/plain": [
              "array([['5', '2', '2', ..., '1', '1', '0'],\n",
              "       ['5', '2', '2', ..., '6', '4', '0'],\n",
              "       ['5', '2', '2', ..., '6', '4', '0'],\n",
              "       ...,\n",
              "       ['3', '2', '1', ..., '4', '4', '0'],\n",
              "       ['3', '2', '2', ..., '6', '4', '0'],\n",
              "       ['1', '2', '2', ..., '8', '1', '0']], dtype=object)"
            ]
          },
          "metadata": {},
          "execution_count": 23
        }
      ]
    },
    {
      "cell_type": "code",
      "execution_count": null,
      "metadata": {
        "id": "342JD_94CUk7",
        "colab": {
          "base_uri": "https://localhost:8080/",
          "height": 518
        },
        "outputId": "62f41ccb-6d6c-4c6b-db2b-4c417fa7d402"
      },
      "outputs": [
        {
          "output_type": "stream",
          "name": "stdout",
          "text": [
            "Class=3, n=3860 (32.770%)\n",
            "Class=2, n=464 (3.939%)\n",
            "Class=0, n=6902 (58.596%)\n",
            "Class=1, n=553 (4.695%)\n"
          ]
        },
        {
          "output_type": "display_data",
          "data": {
            "text/plain": [
              "<Figure size 640x480 with 1 Axes>"
            ],
            "image/png": "[encoded data removed]"
          },
          "metadata": {}
        }
      ],
      "source": [
        "# label encode the target variable\n",
        "y = LabelEncoder().fit_transform(y)\n",
        "# summarize distribution\n",
        "counter = Counter(y)\n",
        "for k,v in counter.items():\n",
        "    per = v / len(y) * 100\n",
        "    print('Class=%d, n=%d (%.3f%%)' % (k, v, per))\n",
        "# plot the distribution\n",
        "pyplot.bar(counter.keys(), counter.values())\n",
        "pyplot.xlabel(\"Clases\")\n",
        "pyplot.ylabel(\"Numero de registros\");\n",
        "pyplot.show()"
      ]
    },
    {
      "cell_type": "markdown",
      "source": [
        "##**Inicio**\n",
        "\n",
        "---"
      ],
      "metadata": {
        "id": "UM1tz2yfyWdn"
      }
    },
    {
      "cell_type": "code",
      "source": [
        "#Importing Libraries\n",
        "import numpy as np\n",
        "import pandas as pd\n",
        "from sklearn.model_selection import train_test_split\n",
        "from sklearn.preprocessing import StandardScaler\n",
        "from sklearn.ensemble import RandomForestClassifier\n",
        "from sklearn.metrics import confusion_matrix\n",
        "#import sklearn.external.joblib as extjoblib\n",
        "import joblib\n",
        "print('Libraries Imported')"
      ],
      "metadata": {
        "colab": {
          "base_uri": "https://localhost:8080/"
        },
        "id": "9FqDYvTtxPMt",
        "outputId": "b9de0d00-2e65-48e4-a0fc-6a2453902756"
      },
      "execution_count": null,
      "outputs": [
        {
          "output_type": "stream",
          "name": "stdout",
          "text": [
            "Libraries Imported\n"
          ]
        }
      ]
    },
    {
      "cell_type": "code",
      "source": [
        "# example of oversampling a multi-class classification dataset\n",
        "from pandas import read_csv\n",
        "from imblearn.over_sampling import SMOTE\n",
        "from collections import Counter\n",
        "import matplotlib.pyplot as plt\n",
        "import matplotlib as plt\n",
        "from sklearn.preprocessing import LabelEncoder"
      ],
      "metadata": {
        "id": "nwEXHiw3z4C1"
      },
      "execution_count": null,
      "outputs": []
    },
    {
      "cell_type": "code",
      "source": [
        "# define the dataset location\n",
        "url = '/content/NEW_CSV_Indicador_Condición_Actividad.csv'\n",
        "# load the csv file as a data frame\n",
        "df = read_csv(url, header=None)\n",
        "\n",
        "df = df.drop(0)\n",
        "df.reset_index(drop=True, inplace=True)\n",
        "\n",
        "data = df.values\n",
        "df"
      ],
      "metadata": {
        "colab": {
          "base_uri": "https://localhost:8080/",
          "height": 424
        },
        "id": "be641Q7p0wqC",
        "outputId": "58afbbf6-39af-4de1-f64c-9a63cd3d5a23"
      },
      "execution_count": null,
      "outputs": [
        {
          "output_type": "execute_result",
          "data": {
            "text/plain": [
              "      0  1  2   3   4  5  6  7  8  9   ... 21 22 23 24 25 26 27 28 29 30\n",
              "0      5  2  2  98   1  0  2  2  2  2  ...  0  2  2  6  1  5  1  1  0  4\n",
              "1      5  2  2  98   6  5  2  2  2  2  ...  0  2  2  6  1  6  6  4  0  4\n",
              "2      5  2  2  98  10  5  2  2  2  2  ...  0  2  2  6  1  1  6  4  0  4\n",
              "3      5  2  2  98   3  0  2  2  2  2  ...  0  2  2  6  2  1  6  1  0  4\n",
              "4      5  2  2  98   6  5  2  2  2  2  ...  0  2  2  6  1  1  6  4  0  4\n",
              "...   .. .. ..  ..  .. .. .. .. .. ..  ... .. .. .. .. .. .. .. .. .. ..\n",
              "11774  2  2  2  28   6  5  2  2  2  2  ...  0  2  2  0  1  6  1  1  0  3\n",
              "11775  1  2  1  38  10  5  2  2  2  2  ...  0  2  2  0  1  1  6  4  0  3\n",
              "11776  3  2  1  14   5  3  2  2  2  2  ...  0  2  2  0  2  5  4  4  0  3\n",
              "11777  3  2  2  42   6  5  2  2  2  2  ...  0  2  2  6  1  6  6  4  0  3\n",
              "11778  1  2  2  42   3  4  2  2  2  2  ...  0  2  2  0  1  6  8  1  0  3\n",
              "\n",
              "[11779 rows x 31 columns]"
            ],
            "text/html": [
              "\n",
              "  <div id=\"df-76b63fa6-7fe1-48c0-ab2a-f15b276f4513\" class=\"colab-df-container\">\n",
              "    <div>\n",
              "<style scoped>\n",
              "    .dataframe tbody tr th:only-of-type {\n",
              "        vertical-align: middle;\n",
              "    }\n",
              "\n",
              "    .dataframe tbody tr th {\n",
              "        vertical-align: top;\n",
              "    }\n",
              "\n",
              "    .dataframe thead th {\n",
              "        text-align: right;\n",
              "    }\n",
              "</style>\n",
              "<table border=\"1\" class=\"dataframe\">\n",
              "  <thead>\n",
              "    <tr style=\"text-align: right;\">\n",
              "      <th></th>\n",
              "      <th>0</th>\n",
              "      <th>1</th>\n",
              "      <th>2</th>\n",
              "      <th>3</th>\n",
              "      <th>4</th>\n",
              "      <th>5</th>\n",
              "      <th>6</th>\n",
              "      <th>7</th>\n",
              "      <th>8</th>\n",
              "      <th>9</th>\n",
              "      <th>...</th>\n",
              "      <th>21</th>\n",
              "      <th>22</th>\n",
              "      <th>23</th>\n",
              "      <th>24</th>\n",
              "      <th>25</th>\n",
              "      <th>26</th>\n",
              "      <th>27</th>\n",
              "      <th>28</th>\n",
              "      <th>29</th>\n",
              "      <th>30</th>\n",
              "    </tr>\n",
              "  </thead>\n",
              "  <tbody>\n",
              "    <tr>\n",
              "      <th>0</th>\n",
              "      <td>5</td>\n",
              "      <td>2</td>\n",
              "      <td>2</td>\n",
              "      <td>98</td>\n",
              "      <td>1</td>\n",
              "      <td>0</td>\n",
              "      <td>2</td>\n",
              "      <td>2</td>\n",
              "      <td>2</td>\n",
              "      <td>2</td>\n",
              "      <td>...</td>\n",
              "      <td>0</td>\n",
              "      <td>2</td>\n",
              "      <td>2</td>\n",
              "      <td>6</td>\n",
              "      <td>1</td>\n",
              "      <td>5</td>\n",
              "      <td>1</td>\n",
              "      <td>1</td>\n",
              "      <td>0</td>\n",
              "      <td>4</td>\n",
              "    </tr>\n",
              "    <tr>\n",
              "      <th>1</th>\n",
              "      <td>5</td>\n",
              "      <td>2</td>\n",
              "      <td>2</td>\n",
              "      <td>98</td>\n",
              "      <td>6</td>\n",
              "      <td>5</td>\n",
              "      <td>2</td>\n",
              "      <td>2</td>\n",
              "      <td>2</td>\n",
              "      <td>2</td>\n",
              "      <td>...</td>\n",
              "      <td>0</td>\n",
              "      <td>2</td>\n",
              "      <td>2</td>\n",
              "      <td>6</td>\n",
              "      <td>1</td>\n",
              "      <td>6</td>\n",
              "      <td>6</td>\n",
              "      <td>4</td>\n",
              "      <td>0</td>\n",
              "      <td>4</td>\n",
              "    </tr>\n",
              "    <tr>\n",
              "      <th>2</th>\n",
              "      <td>5</td>\n",
              "      <td>2</td>\n",
              "      <td>2</td>\n",
              "      <td>98</td>\n",
              "      <td>10</td>\n",
              "      <td>5</td>\n",
              "      <td>2</td>\n",
              "      <td>2</td>\n",
              "      <td>2</td>\n",
              "      <td>2</td>\n",
              "      <td>...</td>\n",
              "      <td>0</td>\n",
              "      <td>2</td>\n",
              "      <td>2</td>\n",
              "      <td>6</td>\n",
              "      <td>1</td>\n",
              "      <td>1</td>\n",
              "      <td>6</td>\n",
              "      <td>4</td>\n",
              "      <td>0</td>\n",
              "      <td>4</td>\n",
              "    </tr>\n",
              "    <tr>\n",
              "      <th>3</th>\n",
              "      <td>5</td>\n",
              "      <td>2</td>\n",
              "      <td>2</td>\n",
              "      <td>98</td>\n",
              "      <td>3</td>\n",
              "      <td>0</td>\n",
              "      <td>2</td>\n",
              "      <td>2</td>\n",
              "      <td>2</td>\n",
              "      <td>2</td>\n",
              "      <td>...</td>\n",
              "      <td>0</td>\n",
              "      <td>2</td>\n",
              "      <td>2</td>\n",
              "      <td>6</td>\n",
              "      <td>2</td>\n",
              "      <td>1</td>\n",
              "      <td>6</td>\n",
              "      <td>1</td>\n",
              "      <td>0</td>\n",
              "      <td>4</td>\n",
              "    </tr>\n",
              "    <tr>\n",
              "      <th>4</th>\n",
              "      <td>5</td>\n",
              "      <td>2</td>\n",
              "      <td>2</td>\n",
              "      <td>98</td>\n",
              "      <td>6</td>\n",
              "      <td>5</td>\n",
              "      <td>2</td>\n",
              "      <td>2</td>\n",
              "      <td>2</td>\n",
              "      <td>2</td>\n",
              "      <td>...</td>\n",
              "      <td>0</td>\n",
              "      <td>2</td>\n",
              "      <td>2</td>\n",
              "      <td>6</td>\n",
              "      <td>1</td>\n",
              "      <td>1</td>\n",
              "      <td>6</td>\n",
              "      <td>4</td>\n",
              "      <td>0</td>\n",
              "      <td>4</td>\n",
              "    </tr>\n",
              "    <tr>\n",
              "      <th>...</th>\n",
              "      <td>...</td>\n",
              "      <td>...</td>\n",
              "      <td>...</td>\n",
              "      <td>...</td>\n",
              "      <td>...</td>\n",
              "      <td>...</td>\n",
              "      <td>...</td>\n",
              "      <td>...</td>\n",
              "      <td>...</td>\n",
              "      <td>...</td>\n",
              "      <td>...</td>\n",
              "      <td>...</td>\n",
              "      <td>...</td>\n",
              "      <td>...</td>\n",
              "      <td>...</td>\n",
              "      <td>...</td>\n",
              "      <td>...</td>\n",
              "      <td>...</td>\n",
              "      <td>...</td>\n",
              "      <td>...</td>\n",
              "      <td>...</td>\n",
              "    </tr>\n",
              "    <tr>\n",
              "      <th>11774</th>\n",
              "      <td>2</td>\n",
              "      <td>2</td>\n",
              "      <td>2</td>\n",
              "      <td>28</td>\n",
              "      <td>6</td>\n",
              "      <td>5</td>\n",
              "      <td>2</td>\n",
              "      <td>2</td>\n",
              "      <td>2</td>\n",
              "      <td>2</td>\n",
              "      <td>...</td>\n",
              "      <td>0</td>\n",
              "      <td>2</td>\n",
              "      <td>2</td>\n",
              "      <td>0</td>\n",
              "      <td>1</td>\n",
              "      <td>6</td>\n",
              "      <td>1</td>\n",
              "      <td>1</td>\n",
              "      <td>0</td>\n",
              "      <td>3</td>\n",
              "    </tr>\n",
              "    <tr>\n",
              "      <th>11775</th>\n",
              "      <td>1</td>\n",
              "      <td>2</td>\n",
              "      <td>1</td>\n",
              "      <td>38</td>\n",
              "      <td>10</td>\n",
              "      <td>5</td>\n",
              "      <td>2</td>\n",
              "      <td>2</td>\n",
              "      <td>2</td>\n",
              "      <td>2</td>\n",
              "      <td>...</td>\n",
              "      <td>0</td>\n",
              "      <td>2</td>\n",
              "      <td>2</td>\n",
              "      <td>0</td>\n",
              "      <td>1</td>\n",
              "      <td>1</td>\n",
              "      <td>6</td>\n",
              "      <td>4</td>\n",
              "      <td>0</td>\n",
              "      <td>3</td>\n",
              "    </tr>\n",
              "    <tr>\n",
              "      <th>11776</th>\n",
              "      <td>3</td>\n",
              "      <td>2</td>\n",
              "      <td>1</td>\n",
              "      <td>14</td>\n",
              "      <td>5</td>\n",
              "      <td>3</td>\n",
              "      <td>2</td>\n",
              "      <td>2</td>\n",
              "      <td>2</td>\n",
              "      <td>2</td>\n",
              "      <td>...</td>\n",
              "      <td>0</td>\n",
              "      <td>2</td>\n",
              "      <td>2</td>\n",
              "      <td>0</td>\n",
              "      <td>2</td>\n",
              "      <td>5</td>\n",
              "      <td>4</td>\n",
              "      <td>4</td>\n",
              "      <td>0</td>\n",
              "      <td>3</td>\n",
              "    </tr>\n",
              "    <tr>\n",
              "      <th>11777</th>\n",
              "      <td>3</td>\n",
              "      <td>2</td>\n",
              "      <td>2</td>\n",
              "      <td>42</td>\n",
              "      <td>6</td>\n",
              "      <td>5</td>\n",
              "      <td>2</td>\n",
              "      <td>2</td>\n",
              "      <td>2</td>\n",
              "      <td>2</td>\n",
              "      <td>...</td>\n",
              "      <td>0</td>\n",
              "      <td>2</td>\n",
              "      <td>2</td>\n",
              "      <td>6</td>\n",
              "      <td>1</td>\n",
              "      <td>6</td>\n",
              "      <td>6</td>\n",
              "      <td>4</td>\n",
              "      <td>0</td>\n",
              "      <td>3</td>\n",
              "    </tr>\n",
              "    <tr>\n",
              "      <th>11778</th>\n",
              "      <td>1</td>\n",
              "      <td>2</td>\n",
              "      <td>2</td>\n",
              "      <td>42</td>\n",
              "      <td>3</td>\n",
              "      <td>4</td>\n",
              "      <td>2</td>\n",
              "      <td>2</td>\n",
              "      <td>2</td>\n",
              "      <td>2</td>\n",
              "      <td>...</td>\n",
              "      <td>0</td>\n",
              "      <td>2</td>\n",
              "      <td>2</td>\n",
              "      <td>0</td>\n",
              "      <td>1</td>\n",
              "      <td>6</td>\n",
              "      <td>8</td>\n",
              "      <td>1</td>\n",
              "      <td>0</td>\n",
              "      <td>3</td>\n",
              "    </tr>\n",
              "  </tbody>\n",
              "</table>\n",
              "<p>11779 rows × 31 columns</p>\n",
              "</div>\n",
              "    <div class=\"colab-df-buttons\">\n",
              "\n",
              "  <div class=\"colab-df-container\">\n",
              "    <button class=\"colab-df-convert\" onclick=\"convertToInteractive('df-76b63fa6-7fe1-48c0-ab2a-f15b276f4513')\"\n",
              "            title=\"Convert this dataframe to an interactive table.\"\n",
              "            style=\"display:none;\">\n",
              "\n",
              "  <svg xmlns=\"http://www.w3.org/2000/svg\" height=\"24px\" viewBox=\"0 -960 960 960\">\n",
              "    <path d=\"M120-120v-720h720v720H120Zm60-500h600v-160H180v160Zm220 220h160v-160H400v160Zm0 220h160v-160H400v160ZM180-400h160v-160H180v160Zm440 0h160v-160H620v160ZM180-180h160v-160H180v160Zm440 0h160v-160H620v160Z\"/>\n",
              "  </svg>\n",
              "    </button>\n",
              "\n",
              "  <style>\n",
              "    .colab-df-container {\n",
              "      display:flex;\n",
              "      gap: 12px;\n",
              "    }\n",
              "\n",
              "    .colab-df-convert {\n",
              "      background-color: #E8F0FE;\n",
              "      border: none;\n",
              "      border-radius: 50%;\n",
              "      cursor: pointer;\n",
              "      display: none;\n",
              "      fill: #1967D2;\n",
              "      height: 32px;\n",
              "      padding: 0 0 0 0;\n",
              "      width: 32px;\n",
              "    }\n",
              "\n",
              "    .colab-df-convert:hover {\n",
              "      background-color: #E2EBFA;\n",
              "      box-shadow: 0px 1px 2px rgba(60, 64, 67, 0.3), 0px 1px 3px 1px rgba(60, 64, 67, 0.15);\n",
              "      fill: #174EA6;\n",
              "    }\n",
              "\n",
              "    .colab-df-buttons div {\n",
              "      margin-bottom: 4px;\n",
              "    }\n",
              "\n",
              "    [theme=dark] .colab-df-convert {\n",
              "      background-color: #3B4455;\n",
              "      fill: #D2E3FC;\n",
              "    }\n",
              "\n",
              "    [theme=dark] .colab-df-convert:hover {\n",
              "      background-color: #434B5C;\n",
              "      box-shadow: 0px 1px 3px 1px rgba(0, 0, 0, 0.15);\n",
              "      filter: drop-shadow(0px 1px 2px rgba(0, 0, 0, 0.3));\n",
              "      fill: #FFFFFF;\n",
              "    }\n",
              "  </style>\n",
              "\n",
              "    <script>\n",
              "      const buttonEl =\n",
              "        document.querySelector('#df-76b63fa6-7fe1-48c0-ab2a-f15b276f4513 button.colab-df-convert');\n",
              "      buttonEl.style.display =\n",
              "        google.colab.kernel.accessAllowed ? 'block' : 'none';\n",
              "\n",
              "      async function convertToInteractive(key) {\n",
              "        const element = document.querySelector('#df-76b63fa6-7fe1-48c0-ab2a-f15b276f4513');\n",
              "        const dataTable =\n",
              "          await google.colab.kernel.invokeFunction('convertToInteractive',\n",
              "                                                    [key], {});\n",
              "        if (!dataTable) return;\n",
              "\n",
              "        const docLinkHtml = 'Like what you see? Visit the ' +\n",
              "          '<a target=\"_blank\" href=https://colab.research.google.com/notebooks/data_table.ipynb>data table notebook</a>'\n",
              "          + ' to learn more about interactive tables.';\n",
              "        element.innerHTML = '';\n",
              "        dataTable['output_type'] = 'display_data';\n",
              "        await google.colab.output.renderOutput(dataTable, element);\n",
              "        const docLink = document.createElement('div');\n",
              "        docLink.innerHTML = docLinkHtml;\n",
              "        element.appendChild(docLink);\n",
              "      }\n",
              "    </script>\n",
              "  </div>\n",
              "\n",
              "\n",
              "<div id=\"df-4681ede9-648f-471f-8115-ab8c7ec89b79\">\n",
              "  <button class=\"colab-df-quickchart\" onclick=\"quickchart('df-4681ede9-648f-471f-8115-ab8c7ec89b79')\"\n",
              "            title=\"Suggest charts\"\n",
              "            style=\"display:none;\">\n",
              "\n",
              "<svg xmlns=\"http://www.w3.org/2000/svg\" height=\"24px\"viewBox=\"0 0 24 24\"\n",
              "     width=\"24px\">\n",
              "    <g>\n",
              "        <path d=\"M19 3H5c-1.1 0-2 .9-2 2v14c0 1.1.9 2 2 2h14c1.1 0 2-.9 2-2V5c0-1.1-.9-2-2-2zM9 17H7v-7h2v7zm4 0h-2V7h2v10zm4 0h-2v-4h2v4z\"/>\n",
              "    </g>\n",
              "</svg>\n",
              "  </button>\n",
              "\n",
              "<style>\n",
              "  .colab-df-quickchart {\n",
              "      --bg-color: #E8F0FE;\n",
              "      --fill-color: #1967D2;\n",
              "      --hover-bg-color: #E2EBFA;\n",
              "      --hover-fill-color: #174EA6;\n",
              "      --disabled-fill-color: #AAA;\n",
              "      --disabled-bg-color: #DDD;\n",
              "  }\n",
              "\n",
              "  [theme=dark] .colab-df-quickchart {\n",
              "      --bg-color: #3B4455;\n",
              "      --fill-color: #D2E3FC;\n",
              "      --hover-bg-color: #434B5C;\n",
              "      --hover-fill-color: #FFFFFF;\n",
              "      --disabled-bg-color: #3B4455;\n",
              "      --disabled-fill-color: #666;\n",
              "  }\n",
              "\n",
              "  .colab-df-quickchart {\n",
              "    background-color: var(--bg-color);\n",
              "    border: none;\n",
              "    border-radius: 50%;\n",
              "    cursor: pointer;\n",
              "    display: none;\n",
              "    fill: var(--fill-color);\n",
              "    height: 32px;\n",
              "    padding: 0;\n",
              "    width: 32px;\n",
              "  }\n",
              "\n",
              "  .colab-df-quickchart:hover {\n",
              "    background-color: var(--hover-bg-color);\n",
              "    box-shadow: 0 1px 2px rgba(60, 64, 67, 0.3), 0 1px 3px 1px rgba(60, 64, 67, 0.15);\n",
              "    fill: var(--button-hover-fill-color);\n",
              "  }\n",
              "\n",
              "  .colab-df-quickchart-complete:disabled,\n",
              "  .colab-df-quickchart-complete:disabled:hover {\n",
              "    background-color: var(--disabled-bg-color);\n",
              "    fill: var(--disabled-fill-color);\n",
              "    box-shadow: none;\n",
              "  }\n",
              "\n",
              "  .colab-df-spinner {\n",
              "    border: 2px solid var(--fill-color);\n",
              "    border-color: transparent;\n",
              "    border-bottom-color: var(--fill-color);\n",
              "    animation:\n",
              "      spin 1s steps(1) infinite;\n",
              "  }\n",
              "\n",
              "  @keyframes spin {\n",
              "    0% {\n",
              "      border-color: transparent;\n",
              "      border-bottom-color: var(--fill-color);\n",
              "      border-left-color: var(--fill-color);\n",
              "    }\n",
              "    20% {\n",
              "      border-color: transparent;\n",
              "      border-left-color: var(--fill-color);\n",
              "      border-top-color: var(--fill-color);\n",
              "    }\n",
              "    30% {\n",
              "      border-color: transparent;\n",
              "      border-left-color: var(--fill-color);\n",
              "      border-top-color: var(--fill-color);\n",
              "      border-right-color: var(--fill-color);\n",
              "    }\n",
              "    40% {\n",
              "      border-color: transparent;\n",
              "      border-right-color: var(--fill-color);\n",
              "      border-top-color: var(--fill-color);\n",
              "    }\n",
              "    60% {\n",
              "      border-color: transparent;\n",
              "      border-right-color: var(--fill-color);\n",
              "    }\n",
              "    80% {\n",
              "      border-color: transparent;\n",
              "      border-right-color: var(--fill-color);\n",
              "      border-bottom-color: var(--fill-color);\n",
              "    }\n",
              "    90% {\n",
              "      border-color: transparent;\n",
              "      border-bottom-color: var(--fill-color);\n",
              "    }\n",
              "  }\n",
              "</style>\n",
              "\n",
              "  <script>\n",
              "    async function quickchart(key) {\n",
              "      const quickchartButtonEl =\n",
              "        document.querySelector('#' + key + ' button');\n",
              "      quickchartButtonEl.disabled = true;  // To prevent multiple clicks.\n",
              "      quickchartButtonEl.classList.add('colab-df-spinner');\n",
              "      try {\n",
              "        const charts = await google.colab.kernel.invokeFunction(\n",
              "            'suggestCharts', [key], {});\n",
              "      } catch (error) {\n",
              "        console.error('Error during call to suggestCharts:', error);\n",
              "      }\n",
              "      quickchartButtonEl.classList.remove('colab-df-spinner');\n",
              "      quickchartButtonEl.classList.add('colab-df-quickchart-complete');\n",
              "    }\n",
              "    (() => {\n",
              "      let quickchartButtonEl =\n",
              "        document.querySelector('#df-4681ede9-648f-471f-8115-ab8c7ec89b79 button');\n",
              "      quickchartButtonEl.style.display =\n",
              "        google.colab.kernel.accessAllowed ? 'block' : 'none';\n",
              "    })();\n",
              "  </script>\n",
              "</div>\n",
              "    </div>\n",
              "  </div>\n"
            ]
          },
          "metadata": {},
          "execution_count": 52
        }
      ]
    },
    {
      "cell_type": "code",
      "source": [
        "# split into input and output elements\n",
        "#data_aux = data\n",
        "#A, b = data[:, :-1][1:], data[:, -1][1:]\n",
        "A, b = data[:, :-1], data[:, -1]"
      ],
      "metadata": {
        "id": "90jaWYv73Sob"
      },
      "execution_count": null,
      "outputs": []
    },
    {
      "cell_type": "code",
      "source": [
        "print(A)"
      ],
      "metadata": {
        "colab": {
          "base_uri": "https://localhost:8080/"
        },
        "id": "Z9HwElOJ3hu0",
        "outputId": "883842ae-53b0-4a79-acf6-1d811066075d"
      },
      "execution_count": null,
      "outputs": [
        {
          "output_type": "stream",
          "name": "stdout",
          "text": [
            "[['5' '2' '2' ... '1' '1' '0']\n",
            " ['5' '2' '2' ... '6' '4' '0']\n",
            " ['5' '2' '2' ... '6' '4' '0']\n",
            " ...\n",
            " ['3' '2' '1' ... '4' '4' '0']\n",
            " ['3' '2' '2' ... '6' '4' '0']\n",
            " ['1' '2' '2' ... '8' '1' '0']]\n"
          ]
        }
      ]
    },
    {
      "cell_type": "code",
      "source": [
        "# label encode the target variable\n",
        "b = LabelEncoder().fit_transform(b)"
      ],
      "metadata": {
        "id": "mz6UcT1l59VE"
      },
      "execution_count": null,
      "outputs": []
    },
    {
      "cell_type": "code",
      "source": [
        "print(b)"
      ],
      "metadata": {
        "colab": {
          "base_uri": "https://localhost:8080/"
        },
        "id": "8JkR7RLC6Gfn",
        "outputId": "5e0fd949-e9d8-4a7c-bd83-a78ffce79ef3"
      },
      "execution_count": null,
      "outputs": [
        {
          "output_type": "stream",
          "name": "stdout",
          "text": [
            "[3 3 3 ... 2 2 2]\n"
          ]
        }
      ]
    },
    {
      "cell_type": "markdown",
      "source": [
        "**Otro**\n",
        "\n",
        "---"
      ],
      "metadata": {
        "id": "gnENUrlLZy7e"
      }
    },
    {
      "cell_type": "code",
      "source": [
        "from sklearn.utils import resample\n",
        "\n",
        "tam = 3860\n",
        "clases_balanceadas = []\n",
        "\n",
        "for class_label in pd.Series(y).unique():\n",
        "    #filtrar las muestras de la clase actual\n",
        "    class_samples = X[y == class_label]\n",
        "\n",
        "    #under u over\n",
        "    if len(class_samples) < tam:\n",
        "        #clase menor\n",
        "        class_samples = resample(class_samples, replace=True, n_samples=tam, random_state=42)\n",
        "    elif len(class_samples) > tam:\n",
        "        #clase mayor\n",
        "        class_samples = resample(class_samples, replace=False, n_samples=tam, random_state=42)\n",
        "\n",
        "    clases_balanceadas.append(class_samples)\n",
        "\n",
        "#combinar las clases balanceadas\n",
        "X_balanced = np.concatenate(clases_balanceadas)\n",
        "y_balanced = np.concatenate([np.full(len(samples), class_label) for class_label, samples in enumerate(clases_balanceadas)])\n",
        "\n",
        "print(pd.Series(y_balanced).value_counts())"
      ],
      "metadata": {
        "colab": {
          "base_uri": "https://localhost:8080/"
        },
        "id": "_LFZKvofZxZ3",
        "outputId": "8c9983be-806e-4dd5-a586-14f8152f9fc4"
      },
      "execution_count": null,
      "outputs": [
        {
          "output_type": "stream",
          "name": "stdout",
          "text": [
            "0    3860\n",
            "1    3860\n",
            "2    3860\n",
            "3    3860\n",
            "dtype: int64\n"
          ]
        }
      ]
    },
    {
      "cell_type": "markdown",
      "source": [
        "**Continua antes del otro**\n",
        "\n",
        "---"
      ],
      "metadata": {
        "id": "FMACLSdvZzaF"
      }
    },
    {
      "cell_type": "code",
      "source": [
        "#from imblearn.over_sampling import SMOTE\n",
        "## transform the dataset\n",
        "#X=A\n",
        "#y=b\n",
        "#oversample = SMOTE()\n",
        "#X, y = oversample.fit_resample(X, y)"
      ],
      "metadata": {
        "id": "mZ6wBEVy6MEF"
      },
      "execution_count": null,
      "outputs": []
    },
    {
      "cell_type": "code",
      "source": [
        "import matplotlib.pyplot as plt\n",
        "from collections import Counter\n",
        "\n",
        "# Verifica la distribución de clases después del balanceo\n",
        "counter_balanced = Counter(y_balanced)\n",
        "\n",
        "# Imprime la distribución después del balanceo\n",
        "for k, v in counter_balanced.items():\n",
        "    per = v / len(y_balanced) * 100\n",
        "    print('Class=%d, n=%d (%.3f%%)' % (k, v, per))\n",
        "\n",
        "# Grafica la distribución después del balanceo\n",
        "plt.bar(counter_balanced.keys(), counter_balanced.values())\n",
        "plt.xlabel(\"Clases\")\n",
        "plt.ylabel(\"Número de registros\")\n",
        "plt.show()\n"
      ],
      "metadata": {
        "id": "09tkzw1y6Rmw",
        "colab": {
          "base_uri": "https://localhost:8080/",
          "height": 519
        },
        "outputId": "f7449f11-2e84-4ae1-92ea-f7d584e6ce49"
      },
      "execution_count": null,
      "outputs": [
        {
          "output_type": "stream",
          "name": "stdout",
          "text": [
            "Class=0, n=3860 (25.000%)\n",
            "Class=1, n=3860 (25.000%)\n",
            "Class=2, n=3860 (25.000%)\n",
            "Class=3, n=3860 (25.000%)\n"
          ]
        },
        {
          "output_type": "display_data",
          "data": {
            "text/plain": [
              "<Figure size 640x480 with 1 Axes>"
            ],
            "image/png": "[encoded data removed]"
          },
          "metadata": {}
        }
      ]
    },
    {
      "cell_type": "markdown",
      "source": [
        "**guardar datos balanceados**\n",
        "---"
      ],
      "metadata": {
        "id": "aVXJXNw-dgJE"
      }
    },
    {
      "cell_type": "code",
      "source": [
        "data_balanced = pd.concat([pd.DataFrame(X_balanced), pd.Series(y_balanced)], axis=1)\n",
        "column_names = [\"p103\",\"p105\",\"p107\",\"p108\",\"p109a\",\"p109b\",\"p201\",\"p202\",\"p203\",\"p2041\",\"p2042\",\"p2043\",\"p2044\",\"p2045\",\"p2046\",\"p2047\",\"p2048\",\"p2049\",\"p206\",\"P206AA\",\"p208b3\",\"p209t\",\"p209ee\",\"p213\",\"p218\",\"p220\",\"p222\",\"P224\",\"P225\",\"ingtot\", \"ocu200\"]\n",
        "data_balanced.columns = column_names\n",
        "\n",
        "data_balanced.to_csv('NEW_CSV_Balanceado_Indicador_Condición_Actividad.csv', index=False)\n"
      ],
      "metadata": {
        "id": "Q3I8FzqOdfkP"
      },
      "execution_count": null,
      "outputs": []
    },
    {
      "cell_type": "markdown",
      "source": [
        "#**TRAINING**\n",
        "\n",
        "---"
      ],
      "metadata": {
        "id": "r8S6o-GzWMdF"
      }
    }
  ]
}